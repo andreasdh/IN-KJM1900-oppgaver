{
 "cells": [
  {
   "cell_type": "markdown",
   "metadata": {},
   "source": [
    "# Oblig B\n",
    "\n",
    "## Teori\n",
    "Titrering er en kvantitativ analysemetode der vi bestemmer konsentrasjonen av et ukjent stoff (_analytten_) ved å tilsette et stoff med kjent konsentrasjon (_titranten_). Titranten tilsettes ofte fra en byrette, og vi kan notere oss pH i analytten underveis ettersom vi tilsetter et visst volum titrant.\n",
    "\n",
    "Ved ekvivalenspunktet er titreringskurven brattest, og her er stoffmengdene av syre og base _ekvivalente_ (og dermed like hvis forholdet er 1:1 i reaksjonslikningen). Dette kan vi bruke til å finne konsentrasjonen av analytten. Ved halvtitrerpunktet er $pH = pK_a$, og vi har en bufferløsning. Derfor endrer pH-en seg ikke så mye rundt dette punktet.\n",
    "\n",
    "Vi kan utlede likninger som gir oss pH-en ved tilsetting av et visst volum syre til base, eller motsatt. Når vi titrerer, tilsette vi sterke syrer til baser eller sterke baser til syrer. Derfor konsenterer vi oss om å utlede likninger som kan beskrive pH-en i slike løsninger. Vi tar utgangspunkt i en generell syre-base-titrering der vi titrerer en svak syre (HA) med en sterk base (BOH):\n",
    "\n",
    "\\begin{equation}\n",
    "HA (aq) + BOH (aq) \\rightleftharpoons B^+ (aq) + A^- (aq) + H_2O (l)\n",
    "\\end{equation}\n",
    "\n",
    "Etter at en slik titrering er fullført, kjenner vi til følgende:\n",
    "- Konsentrasjonen av basen vi brukte (*titranten*): $c_b$.\n",
    "- Volumet base vi brukte for å nå ekvivalenspunktet: $V_b$.\n",
    "- Volumet syre vi titrerte (*analytten*): $V_a$.\n",
    "- Den tidligere ukjente konsentrasjonen av syra: $c_a$.\n",
    "\n",
    "Siden vi kjenner disse verdiene, er de å regne som konstanter når vi skal finne pH i løsningen ved ekvivalenspunktet. Vi trenger å formulere en likning som inneholder $[H^+]$, og ingen andre ukjente. La oss prøve å utlede en slik likning. Et godt utgangspunkt kan være at summen av negative ioner til enhver tid skal være lik summen av positive ioner siden løsningen alltid er elektrisk nøytral: \n",
    "\n",
    "\\begin{equation}\n",
    "    [H^+] + [B^+] = [OH^-] + [A^-]\n",
    "\\end{equation}\n",
    "\n",
    "Denne sammenhengen kan vi ta utgangspunkt i, men vi trenger altså å eliminere alle de ukjente konsentrasjonene bortsett fra $[H^+]$, som vi jo skal finne. Merk at $[B^+]$ og $[A^-]$ er konsentrasjonen i løsningen etter tilsatt titrant, mens $c_b$ og $c_a$ er konsentrasjon av base i titranten og syre i analytten _før_ titreringen starter (initialbetingelser).\n",
    "\n",
    "Konsentrasjonen av den korresponderende syra, $[B^+]$, til den sterke basen i _løsningen_ ved enhver tid er gitt ved antall mol base tilsatt fordelt på totalvolumet av løsningen. Dette er fordi vi regner med at all basen vi tilsetter, har reagert. Antall mol base tilsatt er det samme som konsentrasjonen av basen ved start ($c_b$) multiplisert med volumet av base som er tilsatt. Deretter får vi konsentrasjonen av base i løsningen ved å dele på totalvolumet av løsningen, $V_t = V_a + V_b$. Da får vi at:\n",
    "\n",
    "\\begin{equation}\n",
    "    [B^+] = \\frac{c_bV_b}{V_t}\n",
    "\\end{equation}\n",
    "\n",
    "Da har vi altså fått et uttrykk for den korresponderende syra til den sterke basen. Vi mangler da blant annet et uttrykk for $[OH^-]$. Dette kan vi få fra uttrykket for _vannets egenprotolyse_:\n",
    "\n",
    "\\begin{equation}\n",
    "    K_w = [OH^-][H^+]\n",
    "\\end{equation}\n",
    "\n",
    "der $k_w = 10^{-14}$. Da har vi:\n",
    "\n",
    "\\begin{equation}\n",
    "    [OH^-] = \\frac{K_w}{[H^+]}\n",
    "\\end{equation}\n",
    "\n",
    "\n",
    "Vi mangler nå et uttrykk for $[A^-]$. Vi kan utlede dette fra følgende sammenheng:\n",
    "\n",
    "\\begin{equation}\n",
    "    n_{A^-} = n_{syre,start} - n_{HA}\n",
    "\\end{equation}\n",
    "\n",
    "Denne sammenhengen sier at antall mol korresponderende base til en svak syre er lik antall mol syre vi startet med minus antall mol syre vi har igjen. Dette gir følgende sammenheng:\n",
    "\n",
    "\\begin{equation}\n",
    "    [A^-]\\cdot V_t = c_aV_a - [HA]\\cdot V_t\n",
    "\\end{equation}\n",
    "\n",
    "Et problem er at vi nå har en ukjent til, nemlig $[HA]$. Denne kan vi derimot eliminere ved å benytte oss av uttrykket for likevektskonstanten for en svak syre:\n",
    "\n",
    "\\begin{equation}\n",
    "    K_a = \\frac{[H^+][A^-]}{[HA]}\n",
    "\\end{equation}\n",
    "\n",
    "Dette gir følgende uttrykk for konsentrasjonen av syra, $[HA]$:\n",
    "\n",
    "\\begin{equation}\n",
    "    [HA]= \\frac{[H^+][A^-]}{K_a}\n",
    "\\end{equation}\n",
    "\n",
    "Hvis vi substituerer $[HA]$ fra inn i uttrykket for $[A^-]$, får vi:\n",
    "\n",
    "\\begin{equation}\n",
    "    [A^-] = \\frac{c_aV_a}{V_t[H^+]/K_a + V_t} = \\frac{c_aV_aK_a}{V_t([H^+]+K_a)}\n",
    "\\end{equation}\n",
    "\n",
    "Nå har vi uttrykk for $[A^-]$, $[OH^-]$ og $[B^+]$ som kun avhenger av én ukjent, nemlig $[H^+]$. Da kan vi sette alt inn i likningen som representere elektronøytralitet:\n",
    "\n",
    "\\begin{equation}\n",
    "    [H^+] + \\frac{c_bV_b}{V_t} = \\frac{K_w}{[H^+]} + \\frac{c_aV_aK_a}{V_t([H^+]+K_a)}\n",
    "\\end{equation}\n",
    "\n",
    "Vi samler alle ledd på samme side og ganger alle ledd med $V_t$ for å fjerne flest mulige brøker:\n",
    "\n",
    "\\begin{equation}\n",
    "    [H^+]V_t + c_bV_b - \\frac{K_wV_t}{[H^+]} - \\frac{c_aV_aK_a}{[H^+]+K_a} = 0\n",
    "\\end{equation}\n",
    "\n",
    "Nå har vi en likning som vi kan løse ved å finne nullpunktene til følgende funksjon:\n",
    "\\begin{equation}\n",
    "    T([H^+]) = [H^+]V_t + c_bV_b - \\frac{K_wV_t}{[H^+]} - \\frac{c_aV_aK_a}{[H^+]+K_a}\n",
    "\\end{equation}\n",
    "\n",
    "Denne funksjonen er det derimot problematisk å finne nullpunktene til. Vi får nemlig asymptoter rundt nullpunktet fordi den ikke er definert når $[H^+] = 0$. Dette kan vi komme unna ved å gange med fellesnevner, $[H^+]\\cdot(K_a + [H^+])$, i alle ledd. Da får vi følgende funksjon:\n",
    "\n",
    "\\begin{equation}\n",
    "    T([H^+]) = V_t([H^+] + K_a)[H^+]^2 + c_bV_b([H^+] + K_a)[H^+] - K_wV_t([H^+] + K_a) - c_aV_aK_a[H^+]\n",
    "\\end{equation}\n",
    "\n",
    "Vi ser at dette er en tredjegradsfunksjon som ikke lett lar seg løses analytisk. Vi kan derfor bruke numeriske løsninger, for eksempel Newtons metode, for å løse denne.\n",
    "\n",
    "\n",
    "## Oppgaver\n",
    "## B.1\n",
    "a)"
   ]
  },
  {
   "cell_type": "code",
   "execution_count": 2,
   "metadata": {},
   "outputs": [
    {
     "data": {
      "image/png": "[encoded data removed]",
      "text/plain": [
       "<Figure size 432x288 with 1 Axes>"
      ]
     },
     "metadata": {
      "needs_background": "light"
     },
     "output_type": "display_data"
    }
   ],
   "source": [
    "import numpy as np\n",
    "import matplotlib.pyplot as plt\n",
    "\n",
    "data = np.loadtxt('Datafiler/titreringsdata.txt', skiprows = 2, delimiter = ',')\n",
    "\n",
    "volum = data[:,0]     # mL\n",
    "pH = data[:,1]           \n",
    "\n",
    "plt.scatter(volum, pH, color = 'mediumseagreen')\n",
    "plt.title('Titrerkurve for titrering av mandelsyre med NaOH')\n",
    "plt.ylabel('pH')\n",
    "plt.xlabel('Volum NaOH tilsatt (mL)')\n",
    "plt.show()"
   ]
  },
  {
   "cell_type": "markdown",
   "metadata": {},
   "source": [
    "b)"
   ]
  },
  {
   "cell_type": "code",
   "execution_count": 3,
   "metadata": {},
   "outputs": [
    {
     "data": {
      "image/png": "[encoded data removed]",
      "text/plain": [
       "<Figure size 432x288 with 1 Axes>"
      ]
     },
     "metadata": {
      "needs_background": "light"
     },
     "output_type": "display_data"
    }
   ],
   "source": [
    "from scipy.interpolate import interp1d\n",
    "\n",
    "f = interp1d(volum, pH, kind = 'cubic')\n",
    "xny = np.linspace(volum[0],volum[-1],10000)\n",
    "y = f(xny)\n",
    "\n",
    "# Plotting\n",
    "plt.scatter(volum,pH,marker='o',label='Datapunkter', color = 'maroon')\n",
    "plt.plot(xny, y, label = 'Kubisk interpolasjon',color='navy')\n",
    "plt.title('Titrering av mandelsyre med NaOH')\n",
    "plt.legend()\n",
    "plt.show()"
   ]
  },
  {
   "cell_type": "markdown",
   "metadata": {},
   "source": [
    "c)"
   ]
  },
  {
   "cell_type": "code",
   "execution_count": 4,
   "metadata": {},
   "outputs": [
    {
     "name": "stdout",
     "output_type": "stream",
     "text": [
      "Ekvivalenspunktet ble nådd ved tilsats av 33.52 mL 0.10 M NaOH. Da var pH-en 8.76\n"
     ]
    }
   ],
   "source": [
    "# Løsning uten funksjon\n",
    "derivert = []\n",
    "for i in range(1,len(volum)):\n",
    "    der = (pH[i]-pH[i-1])/(volum[i] - volum[i-1])\n",
    "    derivert.append(der)\n",
    "\n",
    "# Løsning med funksjon\n",
    "def numder(x,y):\n",
    "    derivert = []\n",
    "    for i in range(len(y)-1):\n",
    "        der = (y[i+1]-y[i])/(x[i+1]-x[i])\n",
    "        derivert.append(der)\n",
    "    return derivert\n",
    "\n",
    "def finnmaks(liste):\n",
    "    maks = liste[0]\n",
    "    for i in range(len(liste)):\n",
    "        if liste[i] > maks:\n",
    "            maks = liste[i]\n",
    "            indeks = i\n",
    "    return maks,indeks\n",
    "\n",
    "derivert = numder(xny,y)\n",
    "maksimum,indeks = finnmaks(derivert) # Finner indeksen til maksderivert i lista\n",
    "ekv_volum = xny[indeks] \n",
    "pH_ekvivalens = y[indeks]\n",
    "\n",
    "print(f\"Ekvivalenspunktet ble nådd ved tilsats av {ekv_volum:.2f} mL 0.10 M NaOH. Da var pH-en {pH_ekvivalens:.2f}\")"
   ]
  },
  {
   "cell_type": "markdown",
   "metadata": {},
   "source": [
    "c)"
   ]
  },
  {
   "cell_type": "code",
   "execution_count": 115,
   "metadata": {},
   "outputs": [
    {
     "name": "stdout",
     "output_type": "stream",
     "text": [
      "Konsentrasjonen av glykolsyre er: 1.6761, mol/L\n",
      "pH ved ekvivalenspunktet er: 8.70\n"
     ]
    }
   ],
   "source": [
    "import numpy as np\n",
    "\n",
    "Ka = 1.50E-4\n",
    "Kw = 1E-14\n",
    "Kb = Kw/Ka\n",
    "c_NaOH = 0.500  # mol/L\n",
    "V_NaOH = ekv_volum*1E-3 # L\n",
    "n_NaOH = c_NaOH*V_NaOH  # mol\n",
    "V_glykolsyre = 0.0100   # L\n",
    "n_glykolsyre = n_NaOH   # mol\n",
    "c_glykolsyre = n_glykolsyre/V_glykolsyre # mol/L\n",
    "\n",
    "print(f'Konsentrasjonen av glykolsyre er: {c_glykolsyre:.4f}, mol/L')\n",
    "\n",
    "# Utregna pH-verdi ved ekvivalenspunktet\n",
    "\n",
    "V_total = (V_NaOH + V_glykolsyre)\n",
    "c_glykolsyre_ekv = n_glykolsyre/V_total\n",
    "c_OH = np.sqrt(Kb*c_glykolsyre_ekv)\n",
    "pOH = -np.log10(c_OH)\n",
    "pH = 14-pOH\n",
    "print(f'pH ved ekvivalenspunktet er: {pH:.2f}')"
   ]
  },
  {
   "cell_type": "code",
   "execution_count": 119,
   "metadata": {},
   "outputs": [
    {
     "data": {
      "image/png": "[encoded data removed]",
      "text/plain": [
       "<Figure size 432x288 with 1 Axes>"
      ]
     },
     "metadata": {
      "needs_background": "light"
     },
     "output_type": "display_data"
    },
    {
     "data": {
      "image/png": "[encoded data removed]",
      "text/plain": [
       "<Figure size 432x288 with 1 Axes>"
      ]
     },
     "metadata": {
      "needs_background": "light"
     },
     "output_type": "display_data"
    }
   ],
   "source": [
    "ca=c_glykolsyre\n",
    "Va=V_glykolsyre\n",
    "cb=c_NaOH\n",
    "Vb=V_NaOH\n",
    "Vt=Va+Vb\n",
    "\n",
    "def T(H):\n",
    "    return Vt*(H+Ka)*H**2+cb*Vb*(H+Ka)*H-Kw*Vt*(H+Ka)-ca*Va*Ka*H\n",
    "\n",
    "H1=np.linspace(-1,1,1001)\n",
    "H2=np.linspace(-1e-8,1e-8,1001)\n",
    "\n",
    "plt.plot(H1,T(H1))\n",
    "plt.grid()\n",
    "plt.show()\n",
    "\n",
    "plt.plot(H2,T(H2))\n",
    "plt.grid()\n",
    "plt.show()"
   ]
  },
  {
   "cell_type": "markdown",
   "metadata": {},
   "source": [
    "Vi ser at vi har å gjøre med en tredjegradsfunksjon med tre nullpunkter. Funksjonen er nokså flat rundt nullpunktene. Siden konsentrasjon ikke kan være negativ, ønsker vi nullpunktet der konsentrasjonen er positiv. Når vi zoomer kraftig inn, kan vi se at nullpunktet ligger rundt $0.25\\cdot 10^{-8}$. Vi velger derfor dette som startgjett. Toleransen må være svært liten siden vi har med svært små tall å gjøre."
   ]
  },
  {
   "cell_type": "code",
   "execution_count": 125,
   "metadata": {},
   "outputs": [
    {
     "name": "stdout",
     "output_type": "stream",
     "text": [
      "Konsentrasjonen av oksoniumioner ved ekvivalenspunktet er tilnærmet 1.9739420600571412e-09 etter 2 iterasjoner.\n"
     ]
    }
   ],
   "source": [
    "# Den analytisk deriverte av funksjonen\n",
    "def Tder(H):\n",
    "    return Vt*3*H**2+Vt*Ka*2*H+cb*Vb*(2*H+Ka)-Kw*Vt-ca*Va*Ka\n",
    "\n",
    "def newtons_metode(f,fder,x,tol=1E-12,maksiter=100):\n",
    "    \"\"\"\n",
    "    Newtons metode for å finne nullpunkter.\n",
    "    f: funksjonen som vi skal finne nullpunktene til\n",
    "    fder: den analytisk deriverte av funksjonen\n",
    "    x: startgjett\n",
    "    tol: toleranse for feil\n",
    "    maksiter: maks antall tillatte iterasjoner\n",
    "    \"\"\"\n",
    "    i = 0\n",
    "    while abs(f(x)/fder(x)) > tol and i < maksiter:\n",
    "        x = x - f(x)/fder(x)\n",
    "        i += 1\n",
    "    return x, i\n",
    "\n",
    "H3O,i = newtons_metode(T,Tder,0.25E-8)\n",
    "print(f'Konsentrasjonen av oksoniumioner ved ekvivalenspunktet er tilnærmet {H3O} etter {i} iterasjoner.')"
   ]
  },
  {
   "cell_type": "code",
   "execution_count": 126,
   "metadata": {},
   "outputs": [
    {
     "name": "stdout",
     "output_type": "stream",
     "text": [
      "pH-en ved ekvivalenspunktet er: 8.70\n"
     ]
    }
   ],
   "source": [
    "pH = -np.log10(H3O)\n",
    "print(f'pH-en ved ekvivalenspunktet er: {pH:.2f}')"
   ]
  },
  {
   "cell_type": "markdown",
   "metadata": {},
   "source": [
    "Vi ser at pH-en er lik den analytisk utregnede verdien. Det betyr at metoden i dette tilfellet fungerer veldig bra. Avviket fra pH-en vi fikk ved derivasjon av datasettet er heller ikke stort."
   ]
  },
  {
   "cell_type": "code",
   "execution_count": null,
   "metadata": {},
   "outputs": [],
   "source": []
  }
 ],
 "metadata": {
  "kernelspec": {
   "display_name": "Python 3",
   "language": "python",
   "name": "python3"
  },
  "language_info": {
   "codemirror_mode": {
    "name": "ipython",
    "version": 3
   },
   "file_extension": ".py",
   "mimetype": "text/x-python",
   "name": "python",
   "nbconvert_exporter": "python",
   "pygments_lexer": "ipython3",
   "version": "3.8.3"
  }
 },
 "nbformat": 4,
 "nbformat_minor": 4
}
