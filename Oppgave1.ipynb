{
 "cells": [
  {
   "cell_type": "markdown",
   "metadata": {},
   "source": [
    "# Oppgave 1: Tall og variabler\n",
    "## 1.1\n",
    "### a)"
   ]
  },
  {
   "cell_type": "code",
   "execution_count": 2,
   "metadata": {},
   "outputs": [
    {
     "name": "stdout",
     "output_type": "stream",
     "text": [
      "Den molare massen til sukrose er: 342.0 g/mol.\n"
     ]
    }
   ],
   "source": [
    "# Antall atomer i forbindelsen\n",
    "C = 12\n",
    "H = 22\n",
    "O = 11\n",
    "\n",
    "# Molare masser i g/mol\n",
    "m_C = 12.0 \n",
    "m_H = 1.0  \n",
    "m_O = 16.0\n",
    "\n",
    "# Total molar masse\n",
    "molar_masse_sukrose = C*m_C + H*m_H + O*m_O # g/mol\n",
    "\n",
    "print(\"Den molare massen til sukrose er:\", molar_masse_sukrose,\"g/mol.\")\n"
   ]
  },
  {
   "cell_type": "markdown",
   "metadata": {},
   "source": [
    "### b)"
   ]
  },
  {
   "cell_type": "code",
   "execution_count": 11,
   "metadata": {},
   "outputs": [
    {
     "name": "stdout",
     "output_type": "stream",
     "text": [
      "10 gram sukrose tilsvarer 0.029 mol, altså 1.7463800000000001e+22 antall molekyler.\n"
     ]
    }
   ],
   "source": [
    "# Antall atomer i forbindelsen\n",
    "C = 12\n",
    "H = 22\n",
    "O = 11\n",
    "\n",
    "# Molare masser i g/mol\n",
    "m_C = 12.0 \n",
    "m_H = 1.0  \n",
    "m_O = 16.0\n",
    "\n",
    "# Masseberegninger\n",
    "m = 10         # g innveid sukrose\n",
    "N_A = 6.022E23 # Avogadros tall\n",
    "\n",
    "M_m = C*m_C + H*m_H + O*m_O # g/mol\n",
    "n = round(m/M_m,3)          # mol\n",
    "antall_molekyler = n*N_A\n",
    "\n",
    "print(m, \"gram sukrose tilsvarer\", n, \"mol, altså\", antall_molekyler, \"antall molekyler.\")"
   ]
  },
  {
   "cell_type": "markdown",
   "metadata": {},
   "source": [
    "## 1.2"
   ]
  },
  {
   "cell_type": "code",
   "execution_count": 12,
   "metadata": {},
   "outputs": [
    {
     "name": "stdout",
     "output_type": "stream",
     "text": [
      "Konsentrasjonen etter fortynning er: 0.0125 mol/L.\n"
     ]
    }
   ],
   "source": [
    "V1 = 0.025 # Startvolum i L\n",
    "V2 = 1.0   # Sluttvolum i L\n",
    "c1 = 0.50  # Startkonsentrasjon i mol/L\n",
    "\n",
    "c2 = c1*V1/V2\n",
    "\n",
    "print(\"Konsentrasjonen etter fortynning er:\", c2, \"mol/L.\")"
   ]
  },
  {
   "cell_type": "markdown",
   "metadata": {},
   "source": [
    "## 1.3\n",
    "### a)"
   ]
  },
  {
   "cell_type": "code",
   "execution_count": 13,
   "metadata": {},
   "outputs": [],
   "source": [
    "k_e = 8.987742438E9  # Coloumbs konstant i Nm^2C^-2\n",
    "q = 1.602176634E-19  # Elementærladningen i C\n",
    "G = 6.674E-11        # Gravitasjonskonstanten i Nkg^-2m^2\n",
    "r = 5.292E-11        # Avstand i m mellom p og e i H-atomet\n",
    "m_p = 1.672E-27      # Protonmassen i kg\n",
    "m_e = 9.109E-31      # Elektronmassen i kg"
   ]
  },
  {
   "cell_type": "markdown",
   "metadata": {},
   "source": [
    "### b)"
   ]
  },
  {
   "cell_type": "code",
   "execution_count": 14,
   "metadata": {},
   "outputs": [],
   "source": [
    "F_e = k_e*q*q/r**2   # Elektrisk kraft\n",
    "F_g = G*m_p*m_e/r**2 # Gravitasjonskraft"
   ]
  },
  {
   "cell_type": "markdown",
   "metadata": {},
   "source": [
    "### c)"
   ]
  },
  {
   "cell_type": "code",
   "execution_count": 15,
   "metadata": {},
   "outputs": [
    {
     "name": "stdout",
     "output_type": "stream",
     "text": [
      "Forholdet mellom elektrisk kraft og gravitasjonskraft er: 2.2697510637512704e+39\n"
     ]
    }
   ],
   "source": [
    "forhold = F_e/F_g\n",
    "print(\"Forholdet mellom elektrisk kraft og gravitasjonskraft er:\", forhold)"
   ]
  },
  {
   "cell_type": "markdown",
   "metadata": {},
   "source": [
    "Vi ser at den elektriske kraften er _mye_ større enn gravitasjonskraften, noe som betyr at vi som regel kan se bort ifra gravitasjonskreftene når vi ser på et fåtall atomer og molekyler."
   ]
  }
 ],
 "metadata": {
  "kernelspec": {
   "display_name": "Python 3",
   "language": "python",
   "name": "python3"
  },
  "language_info": {
   "codemirror_mode": {
    "name": "ipython",
    "version": 3
   },
   "file_extension": ".py",
   "mimetype": "text/x-python",
   "name": "python",
   "nbconvert_exporter": "python",
   "pygments_lexer": "ipython3",
   "version": "3.7.6"
  }
 },
 "nbformat": 4,
 "nbformat_minor": 4
}
