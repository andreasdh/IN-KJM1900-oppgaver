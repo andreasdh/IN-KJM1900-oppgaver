{
 "cells": [
  {
   "cell_type": "markdown",
   "metadata": {},
   "source": [
    "# Oppgave 4: Feilhåndtering og fildata\n",
    "## 4.1\n",
    "### a)"
   ]
  },
  {
   "cell_type": "code",
   "execution_count": 77,
   "metadata": {},
   "outputs": [
    {
     "name": "stdout",
     "output_type": "stream",
     "text": [
      "pKa: 4.76\n",
      "Basekonsentrasjonen i mol/L: 2.0E-3\n",
      "Syrekonsentrasjonen i mol/L: 2.3E-3\n",
      "pH-en i bufferen er 4.70\n"
     ]
    }
   ],
   "source": [
    "import numpy as np\n",
    "\n",
    "def bufferpH(pKa, c_base, c_syre):\n",
    "    pH = pKa + np.log10(c_base/c_syre)\n",
    "    return pH\n",
    "\n",
    "pKa = float(input(\"pKa: \"))\n",
    "c1 = float(input(\"Basekonsentrasjonen i mol/L: \"))\n",
    "c2 = float(input(\"Syrekonsentrasjonen i mol/L: \"))\n",
    "\n",
    "pH = bufferpH(pKa,c1,c2)\n",
    "print(f\"pH-en i bufferen er {pH:.2f}\")"
   ]
  },
  {
   "cell_type": "markdown",
   "metadata": {},
   "source": [
    "### b) \n",
    "Her får vi ikke demonstrert output fordi programmet må kjøres gjennom en kommandolinje, men programmet nedenfor vil fungerer ved at du skriver følgende i en Unix-terminal:"
   ]
  },
  {
   "cell_type": "raw",
   "metadata": {},
   "source": [
    "Terminal> python programnavn.py 4.76 2.0E-3 2.3E-3"
   ]
  },
  {
   "cell_type": "code",
   "execution_count": 82,
   "metadata": {},
   "outputs": [],
   "source": [
    "import numpy as np\n",
    "import sys\n",
    "\n",
    "def bufferpH(pKa, c_base, c_syre):\n",
    "    pH = pKa + np.log10(c_base/c_syre)\n",
    "    return pH\n",
    "\n",
    "pKa = sys.argv[1]\n",
    "c1 = sys.argv[2]\n",
    "c2 = sys.argv[3]\n",
    "\n",
    "pH = bufferpH(pKa,c1,c2)\n",
    "print(f\"pH-en i bufferen er {pH:.2f}\")"
   ]
  },
  {
   "cell_type": "markdown",
   "metadata": {},
   "source": [
    "##  4.2"
   ]
  },
  {
   "cell_type": "code",
   "execution_count": 83,
   "metadata": {},
   "outputs": [
    {
     "name": "stdout",
     "output_type": "stream",
     "text": [
      "Bufferen er sprengt\n"
     ]
    }
   ],
   "source": [
    "def bufferpH(pKa, c_base, c_syre):\n",
    "    pH = pKa + np.log10(c_base/c_syre)\n",
    "    if pH < (pKa - 1) or pH > (pKa + 1):\n",
    "        print(\"Bufferen er sprengt\")\n",
    "    else:\n",
    "        return pH\n",
    "\n",
    "pH = bufferpH(4.76, 0.1, 1.1)"
   ]
  },
  {
   "cell_type": "markdown",
   "metadata": {},
   "source": [
    "### 4.3\n",
    "### a)\n",
    "Her er tre måter å lese av fila på. Du kan velge den du syns er enklest."
   ]
  },
  {
   "cell_type": "code",
   "execution_count": 84,
   "metadata": {},
   "outputs": [],
   "source": [
    "import numpy as np\n",
    "\n",
    "data = np.loadtxt('Datafiler/tinn.txt', skiprows = 1)\n",
    "\n",
    "nuklidetall = data[:,0]\n",
    "masse = data[:,1]           # u\n",
    "forekomst = data[:,2]       # %"
   ]
  },
  {
   "cell_type": "code",
   "execution_count": 85,
   "metadata": {},
   "outputs": [],
   "source": [
    "fil = open('Datafiler/tinn.txt', 'r')\n",
    "fil.readline()\n",
    "\n",
    "nuklidetall = []\n",
    "masse = []       # u\n",
    "forekomst = []   # %\n",
    "\n",
    "for rad in fil:\n",
    "    data = rad.split()\n",
    "    nuklidetall.append(float(data[0]))\n",
    "    masse.append(float(data[1]))\n",
    "    forekomst.append(float(data[2]))\n",
    "fil.close()"
   ]
  },
  {
   "cell_type": "code",
   "execution_count": 86,
   "metadata": {},
   "outputs": [],
   "source": [
    "nuklidetall = []\n",
    "masse = []       # u\n",
    "forekomst = []   # %\n",
    "\n",
    "with open('Datafiler/tinn.txt', 'r') as fil:\n",
    "    fil.readline()\n",
    "    for rad in fil:\n",
    "        data = rad.split()\n",
    "        nuklidetall.append(float(data[0]))\n",
    "        masse.append(float(data[1]))\n",
    "        forekomst.append(float(data[2]))"
   ]
  },
  {
   "cell_type": "markdown",
   "metadata": {},
   "source": [
    "### b)"
   ]
  },
  {
   "cell_type": "code",
   "execution_count": 87,
   "metadata": {},
   "outputs": [
    {
     "name": "stdout",
     "output_type": "stream",
     "text": [
      "Den molare massen til tinn er: 118.710\n"
     ]
    }
   ],
   "source": [
    "molar_masse = 0\n",
    "\n",
    "for i in range(len(masse)):\n",
    "    molar_masse += masse[i]*forekomst[i]/100\n",
    "\n",
    "print(f'Den molare massen til tinn er: {molar_masse:.3f}')    "
   ]
  },
  {
   "cell_type": "markdown",
   "metadata": {},
   "source": [
    "### c)\n",
    "\n",
    "Vi legger til en feilhåndtering i én av metodene med feil bane for fila (tinn.txt ligger i mappa \"Datafiler\"):"
   ]
  },
  {
   "cell_type": "code",
   "execution_count": 88,
   "metadata": {},
   "outputs": [
    {
     "name": "stdout",
     "output_type": "stream",
     "text": [
      "Kunne ikke åpne fila. Sjekk at filbanen er korrekt.\n"
     ]
    }
   ],
   "source": [
    "nuklidetall = []\n",
    "masse = []       # u\n",
    "forekomst = []   # %\n",
    "\n",
    "try:\n",
    "    fil = open('tinn.txt', 'r')\n",
    "    fil.readline()\n",
    "    for rad in fil:\n",
    "        data = rad.split()\n",
    "        nuklidetall.append(float(data[0]))\n",
    "        masse.append(float(data[1]))\n",
    "        forekomst.append(float(data[2]))\n",
    "    fil.close()\n",
    "except:\n",
    "    print(\"Kunne ikke åpne fila. Sjekk at filbanen er korrekt.\")"
   ]
  },
  {
   "cell_type": "markdown",
   "metadata": {},
   "source": [
    "## 4.4"
   ]
  },
  {
   "cell_type": "code",
   "execution_count": 6,
   "metadata": {},
   "outputs": [
    {
     "data": {
      "image/png": "[encoded data removed]",
      "text/plain": [
       "<Figure size 432x288 with 1 Axes>"
      ]
     },
     "metadata": {
      "needs_background": "light"
     },
     "output_type": "display_data"
    }
   ],
   "source": [
    "import numpy as np\n",
    "import matplotlib.pyplot as plt\n",
    "\n",
    "data = np.loadtxt('Datafiler/titrering.txt', skiprows = 2, delimiter = ',')\n",
    "\n",
    "volum = data[:,0]     # mL\n",
    "pH = data[:,1]           \n",
    "\n",
    "plt.plot(volum, pH, color = 'navy')\n",
    "plt.title('Titrerkurve for titrering av eddiksyre med NaOH')\n",
    "plt.ylabel('pH')\n",
    "plt.xlabel('Volum NaOH tilsatt (mL)')\n",
    "plt.show()"
   ]
  },
  {
   "cell_type": "code",
   "execution_count": null,
   "metadata": {},
   "outputs": [],
   "source": []
  }
 ],
 "metadata": {
  "kernelspec": {
   "display_name": "Python 3",
   "language": "python",
   "name": "python3"
  },
  "language_info": {
   "codemirror_mode": {
    "name": "ipython",
    "version": 3
   },
   "file_extension": ".py",
   "mimetype": "text/x-python",
   "name": "python",
   "nbconvert_exporter": "python",
   "pygments_lexer": "ipython3",
   "version": "3.7.6"
  }
 },
 "nbformat": 4,
 "nbformat_minor": 4
}
