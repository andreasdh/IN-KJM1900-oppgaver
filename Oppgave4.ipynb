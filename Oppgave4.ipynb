{
 "cells": [
  {
   "cell_type": "markdown",
   "metadata": {},
   "source": [
    "# Oppgave 4: Arrayer, dictionarier og plotting\n",
    "## 4.1\n",
    "### a) \n",
    "\n",
    "1. Når vi adderer to lister, legger vi den ene lista på den andre (hver verdi blir appendet). Da får vi [1, 2, 3, 4, 1, 2, 3, 4]. Vi kan ikke multiplisere lister med hverandre – da får vi en feilmelding.\n",
    "\n",
    "2. Vi kan ikke addere en liste og et tall. Hvis vi multipliserer lista med 2, får vi [1, 2, 3, 4, 1, 2, 3, 4], altså lista dobbelt opp.\n",
    "\n",
    "3. Når vi legger sammen arrayer, får vi elementvis addisjon, altså [1+1, 2+2, 3+3, 4+4] = [2, 4, 6 ,8]. Når vi ganger arrayer, får vi elementvis multiplikasjon, altså [1$\\cdot$1, 2$\\cdot$2, 3$\\cdot$3, 4$\\cdot$4] = [1, 4, 9, 16\n",
    "\n",
    "4. Når vi adderer et tall til en array, adderes tall til hvert element i arrayen, altså [1+2, 2+2, 3+2, 4+2] = [3, 4, 5, 6]. Når vi ganger et tall med en array, ganges tallet med hvert element i arrayen, altså [1$\\cdot$2, 2$\\cdot$2, 3$\\cdot$2, 4$\\cdot$2]."
   ]
  },
  {
   "cell_type": "markdown",
   "metadata": {},
   "source": [
    "### b)\n",
    "Siden vi har å gjøre med arrayer, kan koden enkelt vektoriseres ved å addere arrayene istedenfor å gjennomgå hvert element for seg."
   ]
  },
  {
   "cell_type": "code",
   "execution_count": 3,
   "metadata": {},
   "outputs": [],
   "source": [
    "import numpy as np\n",
    "N = 1000\n",
    "a = np.linspace(0,10,N)\n",
    "b = np.linspace(1,11,N)\n",
    "c = a + b"
   ]
  },
  {
   "cell_type": "markdown",
   "metadata": {},
   "source": [
    "### c)"
   ]
  },
  {
   "cell_type": "code",
   "execution_count": 5,
   "metadata": {},
   "outputs": [],
   "source": [
    "import numpy as np\n",
    "\n",
    "H3O = np.array([1E-10, 2.4E-9, 1E-8, 3.5E-7, 7E-6, 1.2E-5, 1E-4, 1E-2, 1.2])\n",
    "\n",
    "def surhet(oksonium):\n",
    "    pH = -np.log10(oksonium)\n",
    "    return pH\n",
    "\n",
    "pH = surhet(H3O)"
   ]
  },
  {
   "cell_type": "markdown",
   "metadata": {},
   "source": [
    "### d)"
   ]
  },
  {
   "cell_type": "code",
   "execution_count": 32,
   "metadata": {},
   "outputs": [
    {
     "data": {
      "image/png": "[encoded data removed]",
      "text/plain": [
       "<Figure size 432x288 with 1 Axes>"
      ]
     },
     "metadata": {
      "needs_background": "light"
     },
     "output_type": "display_data"
    }
   ],
   "source": [
    "import numpy as np\n",
    "import matplotlib.pyplot as plt\n",
    "\n",
    "N = 1000\n",
    "H3O = np.linspace(1E-14, 1, N)\n",
    "pH = -np.log10(H3O)\n",
    "pOH = 14 - pH\n",
    "\n",
    "plt.plot(H3O, pH, label = 'pH')\n",
    "plt.plot(H3O, pOH, label = 'pOH')\n",
    "plt.xlabel('[H$_3$O$^+$]')\n",
    "plt.legend()\n",
    "plt.show()"
   ]
  },
  {
   "cell_type": "code",
   "execution_count": 34,
   "metadata": {},
   "outputs": [
    {
     "data": {
      "image/png": "[encoded data removed]",
      "text/plain": [
       "<Figure size 432x288 with 1 Axes>"
      ]
     },
     "metadata": {
      "needs_background": "light"
     },
     "output_type": "display_data"
    }
   ],
   "source": [
    "plt.plot(H3O, pH, label = 'pH')\n",
    "plt.plot(H3O, pOH, label = 'pOH')\n",
    "plt.xlabel('[H$_3$O$^+$]')\n",
    "plt.legend()\n",
    "plt.xscale('log')\n",
    "plt.show()"
   ]
  },
  {
   "cell_type": "markdown",
   "metadata": {},
   "source": [
    " ## 4.2\n",
    " ### a)"
   ]
  },
  {
   "cell_type": "code",
   "execution_count": 36,
   "metadata": {},
   "outputs": [],
   "source": [
    "grunnstoffer = {'hydrogen': 1.01, 'helium': 4.00, 'litium': 6.94, 'beryllium': 9.01, 'bor': 10.81, 'karbon': 12.01, 'nitrogen': 14.01, 'oksygen': 16.00}"
   ]
  },
  {
   "cell_type": "markdown",
   "metadata": {},
   "source": [
    "### b)"
   ]
  },
  {
   "cell_type": "code",
   "execution_count": 38,
   "metadata": {},
   "outputs": [
    {
     "name": "stdout",
     "output_type": "stream",
     "text": [
      "{'hydrogen': 1.01, 'helium': 4.0, 'litium': 6.94, 'beryllium': 9.01, 'bor': 10.81, 'karbon': 12.01, 'nitrogen': 14.01, 'oksygen': 16.0, 'fluor': 19.0, 'neon': 20.18}\n"
     ]
    }
   ],
   "source": [
    "grunnstoffer['fluor'] = 19.00\n",
    "grunnstoffer['neon'] = 20.18\n",
    "print(grunnstoffer)"
   ]
  },
  {
   "cell_type": "markdown",
   "metadata": {},
   "source": [
    "### c) "
   ]
  },
  {
   "cell_type": "code",
   "execution_count": 40,
   "metadata": {},
   "outputs": [
    {
     "name": "stdout",
     "output_type": "stream",
     "text": [
      "dict_keys(['hydrogen', 'helium', 'litium', 'beryllium', 'bor', 'karbon', 'nitrogen', 'oksygen', 'fluor', 'neon'])\n",
      "dict_values([1.01, 4.0, 6.94, 9.01, 10.81, 12.01, 14.01, 16.0, 19.0, 20.18])\n"
     ]
    }
   ],
   "source": [
    "nøkler = grunnstoffer.keys()\n",
    "print(nøkler)\n",
    "verdier = grunnstoffer.values()\n",
    "print(verdier)"
   ]
  },
  {
   "cell_type": "markdown",
   "metadata": {},
   "source": [
    "### d)"
   ]
  },
  {
   "cell_type": "code",
   "execution_count": 41,
   "metadata": {},
   "outputs": [
    {
     "name": "stdout",
     "output_type": "stream",
     "text": [
      "Massen til hydrogen er 1.01\n",
      "Massen til helium er 4.0\n",
      "Massen til litium er 6.94\n",
      "Massen til beryllium er 9.01\n",
      "Massen til bor er 10.81\n",
      "Massen til karbon er 12.01\n",
      "Massen til nitrogen er 14.01\n",
      "Massen til oksygen er 16.0\n",
      "Massen til fluor er 19.0\n",
      "Massen til neon er 20.18\n"
     ]
    }
   ],
   "source": [
    "for nøkkel, verdi in grunnstoffer.items():\n",
    "    print(\"Massen til\", nøkkel, \"er\", verdi)"
   ]
  },
  {
   "cell_type": "markdown",
   "metadata": {},
   "source": [
    "### e)"
   ]
  },
  {
   "cell_type": "code",
   "execution_count": null,
   "metadata": {},
   "outputs": [
    {
     "name": "stdout",
     "output_type": "stream",
     "text": [
      "Atomnummeret til fluor er 9\n",
      "Massen til karbon er 12.011\n"
     ]
    }
   ],
   "source": [
    "grunnstoffer = {\n",
    "    \"H\" : {\"masse\":1.008, \"atomnummer\":1, \"gruppe\":1, \"periode\":1},\n",
    "    \"He\": {\"masse\":4.003, \"atomnummer\":2, \"gruppe\":18, \"periode\":1},\n",
    "    \"Li\": {\"masse\":6.940, \"atomnummer\":3, \"gruppe\":1, \"periode\":2},\n",
    "    \"Be\": {\"masse\":9.012, \"atomnummer\":4, \"gruppe\":2, \"periode\":2},\n",
    "    \"B\": {\"masse\":10.810, \"atomnummer\":5, \"gruppe\":13, \"periode\":2},\n",
    "    \"C\": {\"masse\":12.011, \"atomnummer\":6, \"gruppe\":14, \"periode\":2},\n",
    "    \"N\": {\"masse\":14.007, \"atomnummer\":7, \"gruppe\":15, \"periode\":2},\n",
    "    \"O\": {\"masse\":15.999, \"atomnummer\":8, \"gruppe\":16, \"periode\":2},\n",
    "    \"F\": {\"masse\":18.998, \"atomnummer\":9, \"gruppe\":17, \"periode\":2},\n",
    "    \"Ne\": {\"masse\":20.180, \"atomnummer\":10, \"gruppe\":18, \"periode\":2} \n",
    "}\n",
    "\n",
    "print(f'Atomnummeret til fluor er {grunnstoffer[\"F\"][\"atomnummer\"]}')\n",
    "print(f'Massen til karbon er {grunnstoffer[\"C\"][\"masse\"]}')"
   ]
  }
 ],
 "metadata": {
  "kernelspec": {
   "display_name": "Python 3",
   "language": "python",
   "name": "python3"
  },
  "language_info": {
   "codemirror_mode": {
    "name": "ipython",
    "version": 3
   },
   "file_extension": ".py",
   "mimetype": "text/x-python",
   "name": "python",
   "nbconvert_exporter": "python",
   "pygments_lexer": "ipython3",
   "version": "3.7.6"
  }
 },
 "nbformat": 4,
 "nbformat_minor": 4
}
