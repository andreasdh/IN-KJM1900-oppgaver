{
 "cells": [
  {
   "cell_type": "markdown",
   "metadata": {},
   "source": [
    "# Oblig D: Integrasjon\n",
    "## D.1"
   ]
  },
  {
   "cell_type": "code",
   "execution_count": 1,
   "metadata": {},
   "outputs": [],
   "source": [
    "def rektangelmetoden(f, a, b, n):\n",
    "    \"\"\"\n",
    "    Venstretilnærming for bestemt integrasjon med rektangler.\n",
    "    f: funksjonen som skal integreres\n",
    "    a: nedre intervallgrense\n",
    "    b: øvre intervallgrense\n",
    "    n: antall rektangler\n",
    "    \"\"\"\n",
    "    A = 0\n",
    "    h = (b-a)/n\n",
    "    for k in range (n):\n",
    "        A = A + f(a + k*h)\n",
    "    return A*h\n",
    "\n",
    "def trapesmetoden(f, a, b, n):\n",
    "    \"\"\"\n",
    "    Trapesmetoden for bestemt integrasjon.\n",
    "    f: funksjonen som skal integreres\n",
    "    a: nedre intervallgrense\n",
    "    b: øvre intervallgrense\n",
    "    n: antall trapeser\n",
    "    \"\"\"\n",
    "    h = (b-a)/n\n",
    "    total = (f(a) + f(b))/2.0\n",
    "    for k in range(1, n):\n",
    "        total += f(a + k*h)\n",
    "    return h*total"
   ]
  },
  {
   "cell_type": "markdown",
   "metadata": {},
   "source": [
    "## D.2"
   ]
  },
  {
   "cell_type": "code",
   "execution_count": 2,
   "metadata": {},
   "outputs": [
    {
     "name": "stdout",
     "output_type": "stream",
     "text": [
      "Rektangelmetoden med 10 rektangler gir: 17.4870, avvik: 34.75 %\n",
      "Trapesmetoden med 10 trapeser gir: 28.4066, avvik: 6.00 %\n",
      "Rektangelmetoden med 100 rektangler gir: 25.7235, avvik: 4.01 %\n",
      "Trapesmetoden med 100 trapeser gir: 26.8154, avvik: 0.06 %\n",
      "Rektangelmetoden med 1000 rektangler gir: 26.6900, avvik: 0.41 %\n",
      "Trapesmetoden med 1000 trapeser gir: 26.7992, avvik: 0.00 %\n",
      "Rektangelmetoden med 10000 rektangler gir: 26.7882, avvik: 0.04 %\n",
      "Trapesmetoden med 10000 trapeser gir: 26.7991, avvik: 0.00 %\n"
     ]
    }
   ],
   "source": [
    "import numpy as np\n",
    "\n",
    "def f(x):\n",
    "    return x*np.exp(x**2)\n",
    "\n",
    "def f_analytisk(x):\n",
    "    return np.exp(x**2)/2\n",
    "\n",
    "N = [10, 100, 1000, 10000]\n",
    "a = 0\n",
    "b = 2\n",
    "analytisk = f_analytisk(b) - f_analytisk(a)\n",
    "\n",
    "for n in N:\n",
    "    rekt = rektangelmetoden(f,a,b,n)\n",
    "    trap = trapesmetoden(f,a,b,n)\n",
    "    avvik_rekt = abs(analytisk-rekt)/analytisk * 100\n",
    "    avvik_trap = abs(analytisk-trap)/analytisk * 100\n",
    "    print(f'Rektangelmetoden med {n} rektangler gir: {rekt:.4f}, avvik: {avvik_rekt:.2f} %')\n",
    "    print(f'Trapesmetoden med {n} trapeser gir: {trap:.4f}, avvik: {avvik_trap:.2f} %')"
   ]
  },
  {
   "cell_type": "markdown",
   "metadata": {},
   "source": [
    "## D.3"
   ]
  },
  {
   "cell_type": "code",
   "execution_count": 9,
   "metadata": {},
   "outputs": [
    {
     "name": "stdout",
     "output_type": "stream",
     "text": [
      "MC-metoden med N = 10 gir: 6.543415945021893, avvik: 75.58 %\n",
      "MC-metoden med N = 100 gir: 25.12863562373606, avvik: 6.23 %\n",
      "MC-metoden med N = 1000 gir: 28.131539329775684, avvik: 4.97 %\n",
      "MC-metoden med N = 10000 gir: 26.49356563449781, avvik: 1.14 %\n"
     ]
    }
   ],
   "source": [
    "def MC_int(f, a, b, n):\n",
    "    \"\"\"\n",
    "    Monte Carlo-metode for bestemt integrasjon.\n",
    "    f: funksjonen som skal integreres\n",
    "    a: nedre intervallgrense\n",
    "    b: øvre intervallgrense\n",
    "    n: antall utvalgsverdier\n",
    "    \"\"\"\n",
    "    x = np.random.uniform(a, b, n)  \n",
    "    f_bar = np.sum(f(x))  \n",
    "    f_int = (b-a)/n * f_bar          \n",
    "    return f_int\n",
    "\n",
    "for n in N:\n",
    "    montecarlo = MC_int(f, a, b ,n)\n",
    "    avvik_MC = abs(analytisk-montecarlo)/analytisk * 100\n",
    "    print(f'MC-metoden med N = {n} gir: {montecarlo}, avvik: {avvik_MC:.2f} %')"
   ]
  },
  {
   "cell_type": "markdown",
   "metadata": {},
   "source": [
    "## D.4"
   ]
  },
  {
   "cell_type": "code",
   "execution_count": 4,
   "metadata": {},
   "outputs": [
    {
     "name": "stdout",
     "output_type": "stream",
     "text": [
      "Simpsons metode med 10 rektangler gir: 27.53467512391891, avvik: 2.74 %\n",
      "Gauss kvadratur med 10 rektangler gir: 26.799075016572125, avvik: 0.00 %\n",
      "Simpsons metode med 100 rektangler gir: 26.799869154691457, avvik: 0.00 %\n",
      "Gauss kvadratur med 100 rektangler gir: 26.799075016572125, avvik: 0.00 %\n",
      "Simpsons metode med 1000 rektangler gir: 26.799075816679387, avvik: 0.00 %\n",
      "Gauss kvadratur med 1000 rektangler gir: 26.799075016572125, avvik: 0.00 %\n",
      "Simpsons metode med 10000 rektangler gir: 26.79907501737283, avvik: 0.00 %\n",
      "Gauss kvadratur med 10000 rektangler gir: 26.799075016572125, avvik: 0.00 %\n"
     ]
    }
   ],
   "source": [
    "from scipy import integrate\n",
    "from scipy.misc import derivative\n",
    "import numpy as np\n",
    "\n",
    "# Integrerasjon\n",
    "for n in N:\n",
    "    x = np.linspace(a,b,n)\n",
    "    y = f(x)\n",
    "    \n",
    "    simpsons = integrate.simps(y,x)\n",
    "    gauss_kvadratur = integrate.quad(f,a,b)\n",
    "    avvik_simps = abs(analytisk-simpsons)/analytisk * 100\n",
    "    avvik_kvad = abs(analytisk-gauss_kvadratur[0])/analytisk * 100\n",
    "    \n",
    "    print(f'Simpsons metode med {n} rektangler gir: {simpsons}, avvik: {avvik_simps:.2f} %')\n",
    "    print(f'Gauss kvadratur med {n} rektangler gir: {gauss_kvadratur[0]}, avvik: {avvik_kvad:.2f} %')"
   ]
  },
  {
   "cell_type": "markdown",
   "metadata": {},
   "source": [
    "## D.5\n",
    "\n",
    "Tabell over avvik i %:\n",
    "\n",
    "|  N               | 10 | 100 | 1000 | 10 000 |\n",
    "|------------------|----|-----|------|--------|\n",
    "| Rektangelmetoden | 34.75   | 4.01    | 0.41     | 0.04       |\n",
    "| Trapesmetoden    |  6.00  | 0.06    |  0.00    |    0.00    |\n",
    "| MC-metode        | 75.58   | 6.23     |  4.97     |  1.14       |\n",
    "| Simpsons metode  |2.74    | 0.00     |  0.00    | 0.00        |\n",
    "| Gauss kvadratur  |  0.00  |  0.00   |    0.00  |  0.00      |\n",
    "\n",
    "Vi ser at trapesmetoden får raskest minst feil, men at rektangelmetoden også ikke er så verst ettersom *N* øker. MC-metoden gir aller dårligst resultat, og trenger svært høy verdi av *N* for å gi et greit resultat. Dette er fordi den er en statistisk metode, og trenger derfor mange verdier for å få en god tilnærming. MC-metoder egner seg best for multiple integraler. Den desidert mest presise metoden er Gauss kvadratur, tett etterfulgt av Simpsons metode."
   ]
  },
  {
   "cell_type": "code",
   "execution_count": null,
   "metadata": {},
   "outputs": [],
   "source": []
  }
 ],
 "metadata": {
  "kernelspec": {
   "display_name": "Python 3",
   "language": "python",
   "name": "python3"
  },
  "language_info": {
   "codemirror_mode": {
    "name": "ipython",
    "version": 3
   },
   "file_extension": ".py",
   "mimetype": "text/x-python",
   "name": "python",
   "nbconvert_exporter": "python",
   "pygments_lexer": "ipython3",
   "version": "3.8.3"
  }
 },
 "nbformat": 4,
 "nbformat_minor": 4
}
