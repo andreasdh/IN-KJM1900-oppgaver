{
 "cells": [
  {
   "cell_type": "markdown",
   "metadata": {},
   "source": [
    "# Oppgave 3: Beslutninger og funksjoner\n",
    "## 3.1\n",
    "### a)"
   ]
  },
  {
   "cell_type": "code",
   "execution_count": 28,
   "metadata": {},
   "outputs": [],
   "source": [
    "import numpy as np\n",
    "\n",
    "def bufferpH(pKa, c_base, c_syre):\n",
    "    pH = pKa + np.log10(c_base/c_syre)\n",
    "    return pH"
   ]
  },
  {
   "cell_type": "markdown",
   "metadata": {},
   "source": [
    "### b)"
   ]
  },
  {
   "cell_type": "code",
   "execution_count": 30,
   "metadata": {},
   "outputs": [
    {
     "name": "stdout",
     "output_type": "stream",
     "text": [
      "pH-en i bufferen er 4.70\n"
     ]
    }
   ],
   "source": [
    "pH = bufferpH(4.76, 2.0E-3, 2.3E-3)\n",
    "print(f\"pH-en i bufferen er {pH:.2f}\")"
   ]
  },
  {
   "cell_type": "markdown",
   "metadata": {},
   "source": [
    "## 3.2"
   ]
  },
  {
   "cell_type": "code",
   "execution_count": 31,
   "metadata": {},
   "outputs": [
    {
     "name": "stdout",
     "output_type": "stream",
     "text": [
      "71 av 100 reaksjoner var spontane.\n"
     ]
    }
   ],
   "source": [
    "S_liste = [-10, 0.9, 5.1, 1.5, -0.1, 3, -0.4, 0.5, 0.8, 0.1] # Entropi i JK^-1mol^-1\n",
    "H_liste = [100, 12, -100, -75, -20, 10, 20, -35, 49, -10]    # Entalpi i Jmol^-1\n",
    "T = 298 # Temperatur i K\n",
    "spontane_reaksjoner = 0\n",
    "reaksjoner = 0\n",
    "\n",
    "for S in S_liste:\n",
    "    for H in H_liste:\n",
    "        G = H - T*S\n",
    "        if G < 0:\n",
    "            spontane_reaksjoner += 1\n",
    "        reaksjoner += 1\n",
    "\n",
    "print(f\"{spontane_reaksjoner} av {reaksjoner} reaksjoner var spontane.\")\n",
    "            "
   ]
  },
  {
   "cell_type": "markdown",
   "metadata": {},
   "source": [
    "## 3.3\n",
    "### a)"
   ]
  },
  {
   "cell_type": "code",
   "execution_count": 3,
   "metadata": {},
   "outputs": [
    {
     "name": "stdout",
     "output_type": "stream",
     "text": [
      "pH-en er 5.00\n"
     ]
    }
   ],
   "source": [
    "import numpy as np\n",
    "\n",
    "def pH(oksonium):\n",
    "    return -np.log10(oksonium)\n",
    "\n",
    "print(f\"pH-en er {pH(1E-5):.2f}\")"
   ]
  },
  {
   "cell_type": "markdown",
   "metadata": {},
   "source": [
    "### b)"
   ]
  },
  {
   "cell_type": "code",
   "execution_count": 9,
   "metadata": {},
   "outputs": [
    {
     "name": "stdout",
     "output_type": "stream",
     "text": [
      "Løsningen er sur.\n"
     ]
    },
    {
     "data": {
      "text/plain": [
       "5.0"
      ]
     },
     "execution_count": 9,
     "metadata": {},
     "output_type": "execute_result"
    }
   ],
   "source": [
    "def pH(oksonium):\n",
    "    pH = -np.log10(oksonium)\n",
    "    if pH > 7:\n",
    "        print(\"Løsningen er basisk.\")\n",
    "    elif pH < 7:\n",
    "        print(\"Løsningen er sur.\")\n",
    "    else:\n",
    "        print(\"Løsningen er nøytral.\")\n",
    "    return pH\n",
    "\n",
    "pH(1E-5)"
   ]
  },
  {
   "cell_type": "markdown",
   "metadata": {},
   "source": [
    "### c)"
   ]
  },
  {
   "cell_type": "code",
   "execution_count": 6,
   "metadata": {},
   "outputs": [
    {
     "name": "stdout",
     "output_type": "stream",
     "text": [
      "Løsningen er nøytral.\n"
     ]
    },
    {
     "data": {
      "text/plain": [
       "6.958607314841775"
      ]
     },
     "execution_count": 6,
     "metadata": {},
     "output_type": "execute_result"
    }
   ],
   "source": [
    "def pH(oksonium):\n",
    "    pH = -np.log10(oksonium)\n",
    "    if round(pH,1) == 7.0:\n",
    "        print(\"Løsningen er nøytral.\")\n",
    "    elif pH < 7:\n",
    "        print(\"Løsningen er sur.\")\n",
    "    else:\n",
    "        print(\"Løsningen er basisk.\")\n",
    "    return pH\n",
    "\n",
    "pH(1.1E-7)"
   ]
  },
  {
   "cell_type": "code",
   "execution_count": 8,
   "metadata": {},
   "outputs": [
    {
     "name": "stdout",
     "output_type": "stream",
     "text": [
      "Løsningen er nøytral.\n"
     ]
    },
    {
     "data": {
      "text/plain": [
       "6.886056647693163"
      ]
     },
     "execution_count": 8,
     "metadata": {},
     "output_type": "execute_result"
    }
   ],
   "source": [
    "def pH(oksonium):\n",
    "    tol = 0.2\n",
    "    pH = -np.log10(oksonium)\n",
    "    if pH > 7 + tol:\n",
    "        print(\"Løsningen er basisk.\")\n",
    "    elif pH < 7 - tol:\n",
    "        print(\"Løsningen er sur.\")\n",
    "    else:\n",
    "        print(\"Løsningen er nøytral.\")\n",
    "    return pH\n",
    "\n",
    "pH(1.3E-7)"
   ]
  },
  {
   "cell_type": "markdown",
   "metadata": {},
   "source": [
    "Fordelen med å bruke toleranseparametere er at vi unngår problemet med at en verdi sjeldent blir eksakt på en datamaskin. I tillegg kan vi bruke en toleranse der vi ønsker at verdiene skal avvike litt fra en verdi, slik som med pH-beregningene ovenfor."
   ]
  }
 ],
 "metadata": {
  "kernelspec": {
   "display_name": "Python 3",
   "language": "python",
   "name": "python3"
  },
  "language_info": {
   "codemirror_mode": {
    "name": "ipython",
    "version": 3
   },
   "file_extension": ".py",
   "mimetype": "text/x-python",
   "name": "python",
   "nbconvert_exporter": "python",
   "pygments_lexer": "ipython3",
   "version": "3.8.5"
  }
 },
 "nbformat": 4,
 "nbformat_minor": 4
}
