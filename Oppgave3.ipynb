{
 "cells": [
  {
   "cell_type": "markdown",
   "metadata": {},
   "source": [
    "# Oppgave 3: Beslutninger og funksjoner\n",
    "## 3.1\n",
    "### a)"
   ]
  },
  {
   "cell_type": "code",
   "execution_count": 28,
   "metadata": {},
   "outputs": [],
   "source": [
    "import numpy as np\n",
    "\n",
    "def bufferpH(pKa, c_base, c_syre):\n",
    "    pH = pKa + np.log10(c_base/c_syre)\n",
    "    return pH"
   ]
  },
  {
   "cell_type": "markdown",
   "metadata": {},
   "source": [
    "### b)"
   ]
  },
  {
   "cell_type": "code",
   "execution_count": 30,
   "metadata": {},
   "outputs": [
    {
     "name": "stdout",
     "output_type": "stream",
     "text": [
      "pH-en i bufferen er 4.70\n"
     ]
    }
   ],
   "source": [
    "pH = bufferpH(4.76, 2.0E-3, 2.3E-3)\n",
    "print(f\"pH-en i bufferen er {pH:.2f}\")"
   ]
  },
  {
   "cell_type": "markdown",
   "metadata": {},
   "source": [
    "## 3.2"
   ]
  },
  {
   "cell_type": "code",
   "execution_count": 31,
   "metadata": {},
   "outputs": [
    {
     "name": "stdout",
     "output_type": "stream",
     "text": [
      "71 av 100 reaksjoner var spontane.\n"
     ]
    }
   ],
   "source": [
    "S_liste = [-10, 0.9, 5.1, 1.5, -0.1, 3, -0.4, 0.5, 0.8, 0.1] # Entropi i JK^-1mol^-1\n",
    "H_liste = [100, 12, -100, -75, -20, 10, 20, -35, 49, -10]    # Entalpi i Jmol^-1\n",
    "T = 298 # Temperatur i K\n",
    "spontane_reaksjoner = 0\n",
    "reaksjoner = 0\n",
    "\n",
    "for S in S_liste:\n",
    "    for H in H_liste:\n",
    "        G = H - T*S\n",
    "        if G < 0:\n",
    "            spontane_reaksjoner += 1\n",
    "        reaksjoner += 1\n",
    "\n",
    "print(f\"{spontane_reaksjoner} av {reaksjoner} reaksjoner var spontane.\")\n",
    "            "
   ]
  },
  {
   "cell_type": "markdown",
   "metadata": {},
   "source": [
    "## 3.3\n",
    "### a)"
   ]
  },
  {
   "cell_type": "code",
   "execution_count": 32,
   "metadata": {},
   "outputs": [
    {
     "name": "stdout",
     "output_type": "stream",
     "text": [
      "Løsningen er sur.\n"
     ]
    },
    {
     "ename": "TypeError",
     "evalue": "unsupported format string passed to NoneType.__format__",
     "output_type": "error",
     "traceback": [
      "\u001b[1;31m---------------------------------------------------------------------------\u001b[0m",
      "\u001b[1;31mTypeError\u001b[0m                                 Traceback (most recent call last)",
      "\u001b[1;32m<ipython-input-32-d30f869d47db>\u001b[0m in \u001b[0;36m<module>\u001b[1;34m\u001b[0m\n\u001b[0;32m      2\u001b[0m     \u001b[1;32mreturn\u001b[0m \u001b[1;33m-\u001b[0m\u001b[0mnp\u001b[0m\u001b[1;33m.\u001b[0m\u001b[0mlog10\u001b[0m\u001b[1;33m(\u001b[0m\u001b[0moksonium\u001b[0m\u001b[1;33m)\u001b[0m\u001b[1;33m\u001b[0m\u001b[1;33m\u001b[0m\u001b[0m\n\u001b[0;32m      3\u001b[0m \u001b[1;33m\u001b[0m\u001b[0m\n\u001b[1;32m----> 4\u001b[1;33m \u001b[0mprint\u001b[0m\u001b[1;33m(\u001b[0m\u001b[1;34mf\"pH-en er {surhet(1E-5):.2f}\"\u001b[0m\u001b[1;33m)\u001b[0m\u001b[1;33m\u001b[0m\u001b[1;33m\u001b[0m\u001b[0m\n\u001b[0m",
      "\u001b[1;31mTypeError\u001b[0m: unsupported format string passed to NoneType.__format__"
     ]
    }
   ],
   "source": [
    "def pH(oksonium):\n",
    "    return -np.log10(oksonium)\n",
    "\n",
    "print(f\"pH-en er {surhet(1E-5):.2f}\")"
   ]
  },
  {
   "cell_type": "markdown",
   "metadata": {},
   "source": [
    "### b)"
   ]
  },
  {
   "cell_type": "code",
   "execution_count": 33,
   "metadata": {},
   "outputs": [
    {
     "name": "stdout",
     "output_type": "stream",
     "text": [
      "Løsningen er sur.\n"
     ]
    }
   ],
   "source": [
    "def surhet(oksonium):\n",
    "    pH = -np.log10(oksonium)\n",
    "    if pH > 7:\n",
    "        print(\"Løsningen er basisk.\")\n",
    "    elif pH < 7:\n",
    "        print(\"Løsningen er sur.\")\n",
    "    else:\n",
    "        print(\"Løsningen er nøytral.\")\n",
    "\n",
    "surhet(1E-5)"
   ]
  },
  {
   "cell_type": "markdown",
   "metadata": {},
   "source": [
    "### c)"
   ]
  },
  {
   "cell_type": "code",
   "execution_count": 34,
   "metadata": {},
   "outputs": [
    {
     "name": "stdout",
     "output_type": "stream",
     "text": [
      "Løsningen er nøytral.\n"
     ]
    }
   ],
   "source": [
    "def surhet(oksonium):\n",
    "    pH = -np.log10(oksonium)\n",
    "    if round(pH,1) == 7.0:\n",
    "        print(\"Løsningen er nøytral.\")\n",
    "    elif pH < 7:\n",
    "        print(\"Løsningen er sur.\")\n",
    "    else:\n",
    "        print(\"Løsningen er basisk.\")\n",
    "\n",
    "surhet(1.1E-7)"
   ]
  },
  {
   "cell_type": "code",
   "execution_count": 35,
   "metadata": {},
   "outputs": [
    {
     "name": "stdout",
     "output_type": "stream",
     "text": [
      "Løsningen er nøytral.\n"
     ]
    }
   ],
   "source": [
    "def surhet(oksonium):\n",
    "    tol = 0.2\n",
    "    pH = -np.log10(oksonium)\n",
    "    if pH > 7 + tol:\n",
    "        print(\"Løsningen er basisk.\")\n",
    "    elif pH < 7 - tol:\n",
    "        print(\"Løsningen er sur.\")\n",
    "    else:\n",
    "        print(\"Løsningen er nøytral.\")\n",
    "\n",
    "surhet(1.3E-7)"
   ]
  },
  {
   "cell_type": "markdown",
   "metadata": {},
   "source": [
    "Fordelen med å bruke toleranseparametere er at vi unngår problemet med at en verdi sjeldent blir eksakt på en datamaskin. I tillegg kan vi bruke en toleranse der vi ønsker at verdiene skal avvike litt fra en verdi, slik som med pH-beregningene ovenfor."
   ]
  }
 ],
 "metadata": {
  "kernelspec": {
   "display_name": "Python 3",
   "language": "python",
   "name": "python3"
  },
  "language_info": {
   "codemirror_mode": {
    "name": "ipython",
    "version": 3
   },
   "file_extension": ".py",
   "mimetype": "text/x-python",
   "name": "python",
   "nbconvert_exporter": "python",
   "pygments_lexer": "ipython3",
   "version": "3.7.6"
  }
 },
 "nbformat": 4,
 "nbformat_minor": 4
}
