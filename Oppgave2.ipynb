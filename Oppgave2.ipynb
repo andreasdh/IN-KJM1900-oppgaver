{
 "cells": [
  {
   "cell_type": "markdown",
   "metadata": {},
   "source": [
    "# Oppgave 2: Løkker og lister\n",
    "## 2.1\n",
    "### a)\n",
    "Her kan du telle både oppover og nedover i løkka. Rekkefølgen på pH-beregningene har ikke så mye å si. Du kan gjerne eksperimentere med ulike måter å formatere output på slik at det blir enda finere!"
   ]
  },
  {
   "cell_type": "code",
   "execution_count": 28,
   "metadata": {},
   "outputs": [
    {
     "name": "stdout",
     "output_type": "stream",
     "text": [
      "[H3O+] = 1   pH = -0.0\n",
      "[H3O+] = 0.1   pH = 1.0\n",
      "[H3O+] = 0.01   pH = 2.0\n",
      "[H3O+] = 0.001   pH = 3.0\n",
      "[H3O+] = 0.0001   pH = 4.0\n",
      "[H3O+] = 1e-05   pH = 5.0\n",
      "[H3O+] = 1e-06   pH = 6.0\n",
      "[H3O+] = 1e-07   pH = 7.0\n",
      "[H3O+] = 1e-08   pH = 8.0\n",
      "[H3O+] = 1e-09   pH = 9.0\n",
      "[H3O+] = 1e-10   pH = 10.0\n",
      "[H3O+] = 1e-11   pH = 11.0\n",
      "[H3O+] = 1e-12   pH = 12.0\n",
      "[H3O+] = 1e-13   pH = 13.0\n",
      "[H3O+] = 1e-14   pH = 14.0\n",
      "[H3O+] = 1e-15   pH = 15.0\n"
     ]
    }
   ],
   "source": [
    "import numpy as np\n",
    "\n",
    "for i in range(16):\n",
    "    kons = 10**(-i)\n",
    "    pH = -np.log10(kons)\n",
    "    print(f\"[H3O+] = {kons}   pH = {pH}\")"
   ]
  },
  {
   "cell_type": "markdown",
   "metadata": {},
   "source": [
    "## 2.2\n",
    "### a)"
   ]
  },
  {
   "cell_type": "code",
   "execution_count": 59,
   "metadata": {},
   "outputs": [],
   "source": [
    "T = 298      # Temperatur i K\n",
    "n = 1        # Stoffmengde i mol/L\n",
    "R = 8.314    # Gasskonstanten i m^2kgs^-2K^-2mol^-1\n",
    "P = []       # Trykk i Pa\n",
    "V = []       # Volum i m^3\n",
    "\n",
    "# Intervallvariabler\n",
    "N = 100  # Antall trykkverdier\n",
    "P_start = 100\n",
    "P_slutt = 400\n",
    "steg = int((P_slutt-P_start)/N)\n",
    "\n",
    "for trykk in range(P_start, P_slutt, steg):\n",
    "    P.append(trykk)\n",
    "    volum = n*R*T/trykk\n",
    "    V.append(volum)"
   ]
  },
  {
   "cell_type": "markdown",
   "metadata": {},
   "source": [
    "### b)\n",
    "Vi ser at listene er 100 lange når vi bruker len-funksjonen:"
   ]
  },
  {
   "cell_type": "code",
   "execution_count": 60,
   "metadata": {},
   "outputs": [
    {
     "name": "stdout",
     "output_type": "stream",
     "text": [
      "100\n",
      "100\n"
     ]
    }
   ],
   "source": [
    "print(len(P))\n",
    "print(len(V))"
   ]
  },
  {
   "cell_type": "markdown",
   "metadata": {},
   "source": [
    "### c)\n"
   ]
  },
  {
   "cell_type": "code",
   "execution_count": 61,
   "metadata": {},
   "outputs": [
    {
     "data": {
      "image/png": "[encoded data removed]",
      "text/plain": [
       "<Figure size 432x288 with 1 Axes>"
      ]
     },
     "metadata": {
      "needs_background": "light"
     },
     "output_type": "display_data"
    }
   ],
   "source": [
    "import matplotlib.pyplot as plt\n",
    "\n",
    "plt.plot(P,V)\n",
    "plt.xlabel('Trykk i Pa')    # x-aksetittel\n",
    "plt.ylabel('Volum i m$^3$') # y-aksetittel. Bruker dollartegn for å få matematikktegnene riktig\n",
    "plt.show()"
   ]
  },
  {
   "cell_type": "markdown",
   "metadata": {},
   "source": [
    "Vi kan evaluere om grafen ser riktig ut. Vi kjenner til Avogadros lov og at ett mol med en ideell gass opptar ca. 24.5 L volum (molart volum) ved 1 atm og 298 K = 25$^\\circ$C. Siden 1 atm er ca. lik 100 kPa, ser det riktig at volumet er ca. 25 m$^3$ (25 000 L) ved 100 Pa."
   ]
  },
  {
   "cell_type": "markdown",
   "metadata": {},
   "source": [
    "### 2.3\n",
    "### a)"
   ]
  },
  {
   "cell_type": "code",
   "execution_count": 72,
   "metadata": {},
   "outputs": [],
   "source": [
    "def hydrogenfotoner(n,m):\n",
    "    B = 2.18E-18   # Bohrs konstant i J\n",
    "    h = 6.63E-34   # Plancks konstant  i m^2kgs^-1\n",
    "    c = 3.00E8     # Lysets hastighet i vakuum i m/s\n",
    "    f = (B/h)*((1/m**2) - (1/n**2)) # Frekvens i s^-1\n",
    "    bl = c/f        # Bølgelengde i m\n",
    "    bl_nm = bl* 1E9 # Bølgelengde i nm\n",
    "    return bl_nm"
   ]
  },
  {
   "cell_type": "markdown",
   "metadata": {},
   "source": [
    "### b)"
   ]
  },
  {
   "cell_type": "code",
   "execution_count": 73,
   "metadata": {},
   "outputs": [
    {
     "name": "stdout",
     "output_type": "stream",
     "text": [
      "Bølgelengden er: 434.47 nm.\n"
     ]
    }
   ],
   "source": [
    "l = hydrogenfotoner(5,2)\n",
    "print(\"Bølgelengden er:\", round(l,2), \"nm.\")"
   ]
  },
  {
   "cell_type": "markdown",
   "metadata": {},
   "source": [
    "### c)"
   ]
  },
  {
   "cell_type": "code",
   "execution_count": 89,
   "metadata": {},
   "outputs": [
    {
     "name": "stdout",
     "output_type": "stream",
     "text": [
      "Deeksitasjon fra skall 5 til 1 gir bølgelengde 95.04 nm\n",
      "Deeksitasjon fra skall 5 til 2 gir bølgelengde 434.47 nm\n",
      "Deeksitasjon fra skall 5 til 3 gir bølgelengde 1283.04 nm\n",
      "Deeksitasjon fra skall 5 til 4 gir bølgelengde 4055.05 nm\n"
     ]
    }
   ],
   "source": [
    "n = 5\n",
    "\n",
    "for m in range(1,n):\n",
    "    bl = hydrogenfotoner(n,m)\n",
    "    print(f\"Deeksitasjon fra skall {n} til {m} gir bølgelengde {bl:.2f} nm\")"
   ]
  },
  {
   "cell_type": "code",
   "execution_count": null,
   "metadata": {},
   "outputs": [],
   "source": []
  }
 ],
 "metadata": {
  "kernelspec": {
   "display_name": "Python 3",
   "language": "python",
   "name": "python3"
  },
  "language_info": {
   "codemirror_mode": {
    "name": "ipython",
    "version": 3
   },
   "file_extension": ".py",
   "mimetype": "text/x-python",
   "name": "python",
   "nbconvert_exporter": "python",
   "pygments_lexer": "ipython3",
   "version": "3.7.6"
  }
 },
 "nbformat": 4,
 "nbformat_minor": 4
}
